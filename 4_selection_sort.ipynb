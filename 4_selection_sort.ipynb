{
 "cells": [
  {
   "cell_type": "markdown",
   "id": "f05864eb",
   "metadata": {},
   "source": [
    "# Selection Sort\n",
    "\n",
    "Algoritmo:\n",
    "\n",
    "- Para cada posição da lista\n",
    "- compare o item na posição em questão com todos os demais depois dele\n",
    "- se algum dos próximos for menor que ele, troque a posição ocupada entre os dois\n",
    "- e assim sucessivamente"
   ]
  },
  {
   "cell_type": "code",
   "execution_count": 2,
   "id": "0bb7a94a",
   "metadata": {},
   "outputs": [],
   "source": [
    "def selection_sort(lista: list[int]) -> None:\n",
    "    size = len(lista)\n",
    "    for i in range(size):\n",
    "        for j in range(i+1, size):\n",
    "            if lista[i] > lista[j]:\n",
    "                lista[j], lista[i] = lista[i], lista[j]"
   ]
  },
  {
   "cell_type": "code",
   "execution_count": 3,
   "id": "ef71dd82",
   "metadata": {},
   "outputs": [],
   "source": [
    "lista = [10, 2, 9, 13, 5]"
   ]
  },
  {
   "cell_type": "code",
   "execution_count": 4,
   "id": "bafba361",
   "metadata": {},
   "outputs": [
    {
     "data": {
      "text/plain": [
       "[2, 5, 9, 10, 13]"
      ]
     },
     "execution_count": 4,
     "metadata": {},
     "output_type": "execute_result"
    }
   ],
   "source": [
    "selection_sort(lista)\n",
    "lista"
   ]
  },
  {
   "cell_type": "markdown",
   "id": "d2941e85",
   "metadata": {},
   "source": [
    "# Complexity: $O(n^2)$"
   ]
  }
 ],
 "metadata": {
  "kernelspec": {
   "display_name": "Python 3 (ipykernel)",
   "language": "python",
   "name": "python3"
  },
  "language_info": {
   "codemirror_mode": {
    "name": "ipython",
    "version": 3
   },
   "file_extension": ".py",
   "mimetype": "text/x-python",
   "name": "python",
   "nbconvert_exporter": "python",
   "pygments_lexer": "ipython3",
   "version": "3.10.6"
  }
 },
 "nbformat": 4,
 "nbformat_minor": 5
}
