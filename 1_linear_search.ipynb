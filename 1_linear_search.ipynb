{
 "cells": [
  {
   "attachments": {},
   "cell_type": "markdown",
   "id": "d61af7bc",
   "metadata": {},
   "source": [
    "In linear search approach you just go item by item in a array:"
   ]
  },
  {
   "cell_type": "code",
   "execution_count": 1,
   "id": "90e9f169",
   "metadata": {},
   "outputs": [],
   "source": [
    "arr = [10, 2, 17, 31, 3]"
   ]
  },
  {
   "cell_type": "code",
   "execution_count": 6,
   "id": "acfaa1cc",
   "metadata": {},
   "outputs": [
    {
     "name": "stdout",
     "output_type": "stream",
     "text": [
      "24 is not in the array.\n"
     ]
    }
   ],
   "source": [
    "item_to_search = int(input(\"Item to search: \"))\n",
    "found = False\n",
    "for idx, item in enumerate(arr):\n",
    "    if item_to_search == item:\n",
    "        print(f\"{item_to_search} is in position {idx}.\")\n",
    "        found = True\n",
    "        break\n",
    "if not found:\n",
    "    print(f\"{item_to_search} is not in the array.\")\n"
   ]
  },
  {
   "cell_type": "markdown",
   "id": "df403e12",
   "metadata": {},
   "source": []
  }
 ],
 "metadata": {
  "kernelspec": {
   "display_name": "Python 3 (ipykernel)",
   "language": "python",
   "name": "python3"
  },
  "language_info": {
   "codemirror_mode": {
    "name": "ipython",
    "version": 3
   },
   "file_extension": ".py",
   "mimetype": "text/x-python",
   "name": "python",
   "nbconvert_exporter": "python",
   "pygments_lexer": "ipython3",
   "version": "3.10.6"
  }
 },
 "nbformat": 4,
 "nbformat_minor": 5
}
