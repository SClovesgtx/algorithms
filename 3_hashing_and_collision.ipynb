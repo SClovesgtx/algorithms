{
 "cells": [
  {
   "cell_type": "markdown",
   "id": "e1594751",
   "metadata": {},
   "source": [
    "# What is hashing?\n",
    "\n",
    "Hashing is a technique or process of mapping keys, and values into the hash table by using a hash function. It is done for faster access to elements. The efficiency of mapping depends on the efficiency of the hash function used.\n",
    "\n",
    "Let a hash function H(x) maps the value x at the index x%10 in an Array. For example if the list of values is [11,12,13,14,15] it will be stored at positions {1,2,3,4,5} in the array or Hash table respectively."
   ]
  },
  {
   "cell_type": "markdown",
   "id": "b1c2ef4e",
   "metadata": {},
   "source": [
    "![](imgs/hashing.png)"
   ]
  },
  {
   "cell_type": "markdown",
   "id": "b6625882",
   "metadata": {},
   "source": [
    "# What is Collision? \n",
    "\n",
    "Since a hash function gets us a small number for a key which is a big integer or string, there is a possibility that two keys result in the same value. The situation where a newly inserted key maps to an already occupied slot in the hash table is called collision and must be handled using some collision handling technique. \n",
    "\n",
    "## What are the chances of collisions with the large table? \n",
    "\n",
    "Collisions are very likely even if we have a big table to store keys. An important observation is Birthday Paradox. With only 23 persons, the probability that two people have the same birthday is 50%."
   ]
  },
  {
   "cell_type": "markdown",
   "id": "b82c3fdd",
   "metadata": {},
   "source": [
    "# Avoiding Collision using Linear Probing \n",
    "\n",
    "In linear probing, the hash table is searched sequentially that starts from the original location of the hash. If in case the location that we get is already occupied, then we check for the next location. \n",
    "\n",
    "Linear probing has the best cache performance but suffers from clustering. One more advantage of Linear probing is easy to compute. "
   ]
  },
  {
   "cell_type": "markdown",
   "id": "b83a75bf",
   "metadata": {},
   "source": [
    "![](imgs/alg_linear_probing.png)"
   ]
  },
  {
   "cell_type": "code",
   "execution_count": 72,
   "id": "4b7cdeb7",
   "metadata": {},
   "outputs": [],
   "source": [
    "class LinearProbingHashTable:\n",
    "    def __init__(self, size):\n",
    "        self.size = size\n",
    "        self.arr = [-1]*size\n",
    "    \n",
    "    def insert(self, value):\n",
    "        key = value % self.size\n",
    "        index = key\n",
    "        \n",
    "        while self.arr[index] != -1:\n",
    "            index = (index + 1) % self.size\n",
    "            if index == key:\n",
    "                print(\"Hash table is full!\")\n",
    "                return 0\n",
    "        self.arr[index] = value\n",
    "        return 1\n",
    "    \n",
    "    def search(self, value):\n",
    "        key = value % self.size\n",
    "        index = key\n",
    "        \n",
    "        while self.arr[index] != value:\n",
    "            index = (index + 1) % self.size\n",
    "            if index == key:\n",
    "                return 0 # valor não existe\n",
    "        return 1 # valor existe \n",
    "    \n",
    "    def delete(self, value):\n",
    "        key = value % self.size\n",
    "        index = key\n",
    "        \n",
    "        while self.arr[index] != value:\n",
    "            index = (index + 1) % self.size\n",
    "            if index == key:\n",
    "                print(f\"The value {value} do not exist in the hash table.\")\n",
    "                return 0\n",
    "        self.arr[index] = -1 # deletion\n",
    "        return 1\n",
    "    \n",
    "    def __repr__(self):\n",
    "        rep = \"HashTable[\"\n",
    "        for i in range(self.size-1):\n",
    "            rep += str(self.arr[i]) + \", \"\n",
    "        rep += str(self.arr[-1]) + \"]\"\n",
    "        return rep"
   ]
  },
  {
   "cell_type": "code",
   "execution_count": 81,
   "id": "3dcce869",
   "metadata": {},
   "outputs": [
    {
     "name": "stdout",
     "output_type": "stream",
     "text": [
      "HashTable[-1, -1, -1, 88, -1]\n",
      "HashTable[-1, -1, -1, 88, 93]\n",
      "HashTable[-1, -1, 27, 88, 93]\n",
      "HashTable[12, -1, 27, 88, 93]\n",
      "HashTable[12, 38, 27, 88, 93]\n",
      "Hash table is full!\n"
     ]
    }
   ],
   "source": [
    "import random\n",
    "\n",
    "table = LinearProbingHashTable(size=5)\n",
    "while True:\n",
    "    value = random.randint(a=0, b=100)\n",
    "    res = table.insert(value=value)\n",
    "    if res == 0:\n",
    "        break\n",
    "    print(table)"
   ]
  },
  {
   "cell_type": "code",
   "execution_count": 82,
   "id": "e965ed4d",
   "metadata": {},
   "outputs": [
    {
     "name": "stdout",
     "output_type": "stream",
     "text": [
      "HashTable[12, 38, -1, 88, 93]\n",
      "The value 101 do not exist in the hash table.\n"
     ]
    },
    {
     "data": {
      "text/plain": [
       "0"
      ]
     },
     "execution_count": 82,
     "metadata": {},
     "output_type": "execute_result"
    }
   ],
   "source": [
    "table.delete(27)\n",
    "print(table)\n",
    "table.delete(101)"
   ]
  },
  {
   "cell_type": "code",
   "execution_count": 83,
   "id": "ad3e6d66",
   "metadata": {},
   "outputs": [
    {
     "data": {
      "text/plain": [
       "0"
      ]
     },
     "execution_count": 83,
     "metadata": {},
     "output_type": "execute_result"
    }
   ],
   "source": [
    "table.search(27)"
   ]
  },
  {
   "cell_type": "code",
   "execution_count": 85,
   "id": "0e55ddc8",
   "metadata": {},
   "outputs": [
    {
     "data": {
      "text/plain": [
       "1"
      ]
     },
     "execution_count": 85,
     "metadata": {},
     "output_type": "execute_result"
    }
   ],
   "source": [
    "table.search(38)"
   ]
  },
  {
   "cell_type": "markdown",
   "id": "a7239558",
   "metadata": {},
   "source": [
    "# Quadratic Probing\n",
    "\n",
    "![](imgs/quadratic_probing.png)"
   ]
  },
  {
   "cell_type": "markdown",
   "id": "d4969143",
   "metadata": {},
   "source": [
    "# Open Hashing, or Separate Chaining  "
   ]
  },
  {
   "cell_type": "markdown",
   "id": "53cfdb10",
   "metadata": {},
   "source": [
    "The linked list data structure is used to implement this technique. So what happens is, when multiple elements are hashed into the same slot index, then these elements are inserted into a singly-linked list which is known as a chain. "
   ]
  },
  {
   "cell_type": "markdown",
   "id": "a7c6fce5",
   "metadata": {},
   "source": [
    "![](imgs/open_hashing.png)"
   ]
  },
  {
   "cell_type": "markdown",
   "id": "12af4d8c",
   "metadata": {},
   "source": [
    "## Advantages:\n",
    "\n",
    "- Simple to implement. \n",
    "- Hash table never fills up, we can always add more elements to the chain. \n",
    "- Less sensitive to the hash function or load factors. \n",
    "- It is mostly used when it is unknown how many and how frequently keys may be inserted or deleted. \n",
    "\n",
    "## Disadvantages: \n",
    "- The cache performance of chaining is not good as keys are stored using a linked list. Open addressing provides better cache performance as everything is stored in the same table. \n",
    "- Wastage of Space (Some Parts of the hash table are never used) \n",
    "- If the chain becomes long, then search time can become O(n) in the worst case\n",
    "- Uses extra space for links\n"
   ]
  },
  {
   "cell_type": "code",
   "execution_count": 154,
   "id": "9d51e347",
   "metadata": {},
   "outputs": [],
   "source": [
    "class Node:\n",
    "    def __init__(self, value):\n",
    "        self.data = value\n",
    "        self.next = None\n",
    "        \n",
    "class OpenHashingTable:\n",
    "    def __init__(self, size):\n",
    "        self.size = size\n",
    "        self.chain = [None] * size\n",
    "        \n",
    "    def insert(self, value):\n",
    "        new_node = Node(value)\n",
    "        key = value % self.size\n",
    "        if self.chain[key] == None:\n",
    "            self.chain[key] = new_node\n",
    "        else:\n",
    "            temp = self.chain[key]\n",
    "            while temp.next != None:\n",
    "                temp = temp.next\n",
    "            temp.next = new_node\n",
    "            \n",
    "    def search(self, value):\n",
    "        key = value % self.size\n",
    "        temp = self.chain[key]\n",
    "        while temp != None:\n",
    "            if temp.data == value:\n",
    "                return 1\n",
    "            temp = temp.next\n",
    "        return 0\n",
    "    \n",
    "    def delete(self, value):\n",
    "        key = value % self.size\n",
    "        temp = self.chain[key]\n",
    "        if temp != None and temp.data == value:\n",
    "            temp = temp.next\n",
    "            self.chain[key] = temp\n",
    "            return 1\n",
    "    \n",
    "        while temp.next != None:\n",
    "            if temp.next.data == value:\n",
    "                temp.next = temp.next.next\n",
    "                return 1\n",
    "            temp = temp.next\n",
    "        return 0\n",
    "        \n",
    "            \n",
    "    def __repr__(self):\n",
    "        n = 0\n",
    "        rep = \"\"\n",
    "        for i in range(self.size):\n",
    "            rep += f\"key {n} -> \"\n",
    "            if self.chain[i] == None:\n",
    "                rep += \"None\\n\"\n",
    "            else:\n",
    "                temp = self.chain[i]\n",
    "                while temp.next != None:\n",
    "                    rep += f\"Node({str(temp.data)}) -> \"\n",
    "                    temp = temp.next\n",
    "                rep += f\"Node({str(temp.data)})\\n\"\n",
    "            n += 1\n",
    "        return rep"
   ]
  },
  {
   "cell_type": "code",
   "execution_count": 155,
   "id": "83a8471b",
   "metadata": {},
   "outputs": [
    {
     "name": "stdout",
     "output_type": "stream",
     "text": [
      "key 0 -> Node(72) -> Node(90) -> Node(30)\n",
      "key 1 -> Node(43) -> Node(67) -> Node(85) -> Node(7) -> Node(55) -> Node(79) -> Node(49) -> Node(43)\n",
      "key 2 -> Node(74) -> Node(44) -> Node(44) -> Node(20) -> Node(92)\n",
      "key 3 -> Node(21) -> Node(39) -> Node(87)\n",
      "key 4 -> Node(64) -> Node(58) -> Node(58) -> Node(52)\n",
      "key 5 -> Node(71) -> Node(23) -> Node(53) -> Node(89) -> Node(95) -> Node(29) -> Node(77)\n",
      "\n"
     ]
    }
   ],
   "source": [
    "import random\n",
    "\n",
    "table = OpenHashingTable(size=6)\n",
    "for i in range(30):\n",
    "    value = random.randint(a=0, b=100)\n",
    "    table.insert(value=value)\n",
    "        \n",
    "print(table)"
   ]
  },
  {
   "cell_type": "code",
   "execution_count": 156,
   "id": "4214648c",
   "metadata": {},
   "outputs": [
    {
     "data": {
      "text/plain": [
       "1"
      ]
     },
     "execution_count": 156,
     "metadata": {},
     "output_type": "execute_result"
    }
   ],
   "source": [
    "table.search(49)"
   ]
  },
  {
   "cell_type": "code",
   "execution_count": 157,
   "id": "1f84e7e1",
   "metadata": {},
   "outputs": [
    {
     "data": {
      "text/plain": [
       "0"
      ]
     },
     "execution_count": 157,
     "metadata": {},
     "output_type": "execute_result"
    }
   ],
   "source": [
    "table.search(101)"
   ]
  },
  {
   "cell_type": "code",
   "execution_count": 158,
   "id": "08d6b9e5",
   "metadata": {},
   "outputs": [
    {
     "data": {
      "text/plain": [
       "1"
      ]
     },
     "execution_count": 158,
     "metadata": {},
     "output_type": "execute_result"
    }
   ],
   "source": [
    "table.delete(55)"
   ]
  },
  {
   "cell_type": "code",
   "execution_count": 159,
   "id": "487c1ba5",
   "metadata": {},
   "outputs": [
    {
     "data": {
      "text/plain": [
       "0"
      ]
     },
     "execution_count": 159,
     "metadata": {},
     "output_type": "execute_result"
    }
   ],
   "source": [
    "table.search(55)''"
   ]
  }
 ],
 "metadata": {
  "kernelspec": {
   "display_name": "Python 3 (ipykernel)",
   "language": "python",
   "name": "python3"
  },
  "language_info": {
   "codemirror_mode": {
    "name": "ipython",
    "version": 3
   },
   "file_extension": ".py",
   "mimetype": "text/x-python",
   "name": "python",
   "nbconvert_exporter": "python",
   "pygments_lexer": "ipython3",
   "version": "3.10.6"
  }
 },
 "nbformat": 4,
 "nbformat_minor": 5
}
