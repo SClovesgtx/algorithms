{
 "cells": [
  {
   "cell_type": "markdown",
   "id": "e1594751",
   "metadata": {},
   "source": [
    "# What is hashing?\n",
    "\n",
    "Hashing is a technique or process of mapping keys, and values into the hash table by using a hash function. It is done for faster access to elements. The efficiency of mapping depends on the efficiency of the hash function used.\n",
    "\n",
    "Let a hash function H(x) maps the value x at the index x%10 in an Array. For example if the list of values is [11,12,13,14,15] it will be stored at positions {1,2,3,4,5} in the array or Hash table respectively."
   ]
  },
  {
   "cell_type": "markdown",
   "id": "b1c2ef4e",
   "metadata": {},
   "source": [
    "![](imgs/hashing.png)"
   ]
  },
  {
   "cell_type": "markdown",
   "id": "b6625882",
   "metadata": {},
   "source": [
    "# What is Collision? \n",
    "\n",
    "Since a hash function gets us a small number for a key which is a big integer or string, there is a possibility that two keys result in the same value. The situation where a newly inserted key maps to an already occupied slot in the hash table is called collision and must be handled using some collision handling technique. \n",
    "\n",
    "## What are the chances of collisions with the large table? \n",
    "\n",
    "Collisions are very likely even if we have a big table to store keys. An important observation is Birthday Paradox. With only 23 persons, the probability that two people have the same birthday is 50%."
   ]
  },
  {
   "cell_type": "code",
   "execution_count": null,
   "id": "036ac4c8",
   "metadata": {},
   "outputs": [],
   "source": []
  }
 ],
 "metadata": {
  "kernelspec": {
   "display_name": "Python 3 (ipykernel)",
   "language": "python",
   "name": "python3"
  },
  "language_info": {
   "codemirror_mode": {
    "name": "ipython",
    "version": 3
   },
   "file_extension": ".py",
   "mimetype": "text/x-python",
   "name": "python",
   "nbconvert_exporter": "python",
   "pygments_lexer": "ipython3",
   "version": "3.10.6"
  }
 },
 "nbformat": 4,
 "nbformat_minor": 5
}
