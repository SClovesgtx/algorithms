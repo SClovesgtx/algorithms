{
 "cells": [
  {
   "attachments": {},
   "cell_type": "markdown",
   "metadata": {},
   "source": [
    "Merge sort uses the divide and conquer approach.\n",
    "\n",
    "It presupposes that you have two sorted arrays and you need to merge them."
   ]
  },
  {
   "attachments": {},
   "cell_type": "markdown",
   "metadata": {},
   "source": [
    "Suppose you have two sorted arrays A and B:"
   ]
  },
  {
   "cell_type": "code",
   "execution_count": 1,
   "metadata": {},
   "outputs": [],
   "source": [
    "A = [5, 20, 30, 45, 100]\n",
    "B = [10, 25, 28, 40, 42]"
   ]
  },
  {
   "attachments": {},
   "cell_type": "markdown",
   "metadata": {},
   "source": [
    "The minimum element is the first item of A, or B:"
   ]
  },
  {
   "cell_type": "code",
   "execution_count": 3,
   "metadata": {},
   "outputs": [
    {
     "data": {
      "text/plain": [
       "True"
      ]
     },
     "execution_count": 3,
     "metadata": {},
     "output_type": "execute_result"
    }
   ],
   "source": [
    "A[0] < B[0]"
   ]
  },
  {
   "attachments": {},
   "cell_type": "markdown",
   "metadata": {},
   "source": [
    "So, put A[0] and the new array:"
   ]
  },
  {
   "cell_type": "code",
   "execution_count": 4,
   "metadata": {},
   "outputs": [
    {
     "data": {
      "text/plain": [
       "[5]"
      ]
     },
     "execution_count": 4,
     "metadata": {},
     "output_type": "execute_result"
    }
   ],
   "source": [
    "merged_array = []\n",
    "merged_array.append(A[0])\n",
    "merged_array"
   ]
  },
  {
   "attachments": {},
   "cell_type": "markdown",
   "metadata": {},
   "source": [
    "Now, go to the second item of A, and compare with the first one of B:"
   ]
  },
  {
   "cell_type": "code",
   "execution_count": 5,
   "metadata": {},
   "outputs": [
    {
     "data": {
      "text/plain": [
       "False"
      ]
     },
     "execution_count": 5,
     "metadata": {},
     "output_type": "execute_result"
    }
   ],
   "source": [
    "A[1] < B[0]"
   ]
  },
  {
   "attachments": {},
   "cell_type": "markdown",
   "metadata": {},
   "source": [
    "So, add B[0] to the new array:"
   ]
  },
  {
   "cell_type": "code",
   "execution_count": 6,
   "metadata": {},
   "outputs": [
    {
     "data": {
      "text/plain": [
       "[5, 10]"
      ]
     },
     "execution_count": 6,
     "metadata": {},
     "output_type": "execute_result"
    }
   ],
   "source": [
    "merged_array.append(B[0])\n",
    "merged_array"
   ]
  },
  {
   "attachments": {},
   "cell_type": "markdown",
   "metadata": {},
   "source": [
    "Now compare the second item of A with the second item of B: "
   ]
  },
  {
   "cell_type": "code",
   "execution_count": 7,
   "metadata": {},
   "outputs": [
    {
     "data": {
      "text/plain": [
       "True"
      ]
     },
     "execution_count": 7,
     "metadata": {},
     "output_type": "execute_result"
    }
   ],
   "source": [
    "A[1] < B[1]"
   ]
  },
  {
   "attachments": {},
   "cell_type": "markdown",
   "metadata": {},
   "source": [
    "So, add A[1] to the new array:"
   ]
  },
  {
   "cell_type": "code",
   "execution_count": 8,
   "metadata": {},
   "outputs": [
    {
     "data": {
      "text/plain": [
       "[5, 10, 20]"
      ]
     },
     "execution_count": 8,
     "metadata": {},
     "output_type": "execute_result"
    }
   ],
   "source": [
    "merged_array.append(A[1])\n",
    "merged_array"
   ]
  },
  {
   "attachments": {},
   "cell_type": "markdown",
   "metadata": {},
   "source": [
    "And so on..."
   ]
  },
  {
   "cell_type": "code",
   "execution_count": 9,
   "metadata": {},
   "outputs": [],
   "source": [
    "A = [5, 20, 30, 45, 100]\n",
    "B = [10, 25, 28, 40, 42]"
   ]
  },
  {
   "cell_type": "code",
   "execution_count": 18,
   "metadata": {},
   "outputs": [],
   "source": [
    "def merge(A, B):\n",
    "    merged_array = []\n",
    "    i = 0; j = 0\n",
    "    while True:\n",
    "        if i == len(A):\n",
    "            merged_array += [value for value in B[j:]]\n",
    "            break\n",
    "        elif j == len(B):\n",
    "            merged_array += [value for value in A[i:]]\n",
    "            break\n",
    "        elif A[i] < B[j]:\n",
    "            merged_array.append(A[i])\n",
    "            i += 1\n",
    "        else:\n",
    "            merged_array.append(B[j])\n",
    "            j += 1\n",
    "    return merged_array"
   ]
  },
  {
   "cell_type": "code",
   "execution_count": 19,
   "metadata": {},
   "outputs": [
    {
     "data": {
      "text/plain": [
       "[5, 10, 20, 25, 28, 30, 40, 42, 45, 100]"
      ]
     },
     "execution_count": 19,
     "metadata": {},
     "output_type": "execute_result"
    }
   ],
   "source": [
    "merge(A, B)"
   ]
  },
  {
   "attachments": {},
   "cell_type": "markdown",
   "metadata": {},
   "source": [
    "# Merge Sort implementation  "
   ]
  },
  {
   "cell_type": "code",
   "execution_count": 7,
   "metadata": {},
   "outputs": [],
   "source": [
    "def merge(arr: list[int], start: int, mid: int, end: int):\n",
    "    try:\n",
    "        A = arr[start:mid]; B = arr[mid:end]\n",
    "    except:\n",
    "        raise Exception(f\"Não deu certo: {start}, {mid}, {end}\")\n",
    "    merged_array = []\n",
    "    i = 0; j = 0\n",
    "    while True:\n",
    "        if i == len(A):\n",
    "            merged_array += [value for value in B[j:]]\n",
    "            break\n",
    "        elif j == len(B):\n",
    "            merged_array += [value for value in A[i:]]\n",
    "            break\n",
    "        elif A[i] < B[j]:\n",
    "            merged_array.append(A[i])\n",
    "            i += 1\n",
    "        else:\n",
    "            merged_array.append(B[j])\n",
    "            j += 1\n",
    "    arr[start:end] = merged_array\n",
    "\n",
    "def merge_sort(arr: list[int], start: int, end: int) -> None:\n",
    "    if start < end:\n",
    "        mid = round((start + end) / 2)\n",
    "        merge_sort(arr=arr, start=start, end=mid) # take care of first half part\n",
    "        merge_sort(arr=arr, start=mid, end=end) # take care of second half part\n",
    "        merge(arr, start, mid, end)"
   ]
  },
  {
   "cell_type": "code",
   "execution_count": 8,
   "metadata": {},
   "outputs": [
    {
     "ename": "RecursionError",
     "evalue": "maximum recursion depth exceeded while calling a Python object",
     "output_type": "error",
     "traceback": [
      "\u001b[0;31m---------------------------------------------------------------------------\u001b[0m",
      "\u001b[0;31mRecursionError\u001b[0m                            Traceback (most recent call last)",
      "Cell \u001b[0;32mIn [8], line 2\u001b[0m\n\u001b[1;32m      1\u001b[0m arr \u001b[39m=\u001b[39m [\u001b[39m23\u001b[39m, \u001b[39m1\u001b[39m, \u001b[39m19\u001b[39m, \u001b[39m-\u001b[39m\u001b[39m2\u001b[39m, \u001b[39m50\u001b[39m, \u001b[39m100\u001b[39m, \u001b[39m51\u001b[39m]\n\u001b[0;32m----> 2\u001b[0m merge_sort(arr\u001b[39m=\u001b[39;49marr, start\u001b[39m=\u001b[39;49m\u001b[39m0\u001b[39;49m, end\u001b[39m=\u001b[39;49m\u001b[39mlen\u001b[39;49m(arr))\n",
      "Cell \u001b[0;32mIn [7], line 26\u001b[0m, in \u001b[0;36mmerge_sort\u001b[0;34m(arr, start, end)\u001b[0m\n\u001b[1;32m     24\u001b[0m \u001b[39mif\u001b[39;00m start \u001b[39m<\u001b[39m end:\n\u001b[1;32m     25\u001b[0m     mid \u001b[39m=\u001b[39m \u001b[39mround\u001b[39m((start \u001b[39m+\u001b[39m end) \u001b[39m/\u001b[39m \u001b[39m2\u001b[39m)\n\u001b[0;32m---> 26\u001b[0m     merge_sort(arr\u001b[39m=\u001b[39;49marr, start\u001b[39m=\u001b[39;49mstart, end\u001b[39m=\u001b[39;49mmid) \u001b[39m# take care of first half part\u001b[39;00m\n\u001b[1;32m     27\u001b[0m     merge_sort(arr\u001b[39m=\u001b[39marr, start\u001b[39m=\u001b[39mmid, end\u001b[39m=\u001b[39mend) \u001b[39m# take care of second half part\u001b[39;00m\n\u001b[1;32m     28\u001b[0m     merge(arr, start, mid, end)\n",
      "Cell \u001b[0;32mIn [7], line 26\u001b[0m, in \u001b[0;36mmerge_sort\u001b[0;34m(arr, start, end)\u001b[0m\n\u001b[1;32m     24\u001b[0m \u001b[39mif\u001b[39;00m start \u001b[39m<\u001b[39m end:\n\u001b[1;32m     25\u001b[0m     mid \u001b[39m=\u001b[39m \u001b[39mround\u001b[39m((start \u001b[39m+\u001b[39m end) \u001b[39m/\u001b[39m \u001b[39m2\u001b[39m)\n\u001b[0;32m---> 26\u001b[0m     merge_sort(arr\u001b[39m=\u001b[39;49marr, start\u001b[39m=\u001b[39;49mstart, end\u001b[39m=\u001b[39;49mmid) \u001b[39m# take care of first half part\u001b[39;00m\n\u001b[1;32m     27\u001b[0m     merge_sort(arr\u001b[39m=\u001b[39marr, start\u001b[39m=\u001b[39mmid, end\u001b[39m=\u001b[39mend) \u001b[39m# take care of second half part\u001b[39;00m\n\u001b[1;32m     28\u001b[0m     merge(arr, start, mid, end)\n",
      "Cell \u001b[0;32mIn [7], line 26\u001b[0m, in \u001b[0;36mmerge_sort\u001b[0;34m(arr, start, end)\u001b[0m\n\u001b[1;32m     24\u001b[0m \u001b[39mif\u001b[39;00m start \u001b[39m<\u001b[39m end:\n\u001b[1;32m     25\u001b[0m     mid \u001b[39m=\u001b[39m \u001b[39mround\u001b[39m((start \u001b[39m+\u001b[39m end) \u001b[39m/\u001b[39m \u001b[39m2\u001b[39m)\n\u001b[0;32m---> 26\u001b[0m     merge_sort(arr\u001b[39m=\u001b[39;49marr, start\u001b[39m=\u001b[39;49mstart, end\u001b[39m=\u001b[39;49mmid) \u001b[39m# take care of first half part\u001b[39;00m\n\u001b[1;32m     27\u001b[0m     merge_sort(arr\u001b[39m=\u001b[39marr, start\u001b[39m=\u001b[39mmid, end\u001b[39m=\u001b[39mend) \u001b[39m# take care of second half part\u001b[39;00m\n\u001b[1;32m     28\u001b[0m     merge(arr, start, mid, end)\n",
      "Cell \u001b[0;32mIn [7], line 27\u001b[0m, in \u001b[0;36mmerge_sort\u001b[0;34m(arr, start, end)\u001b[0m\n\u001b[1;32m     25\u001b[0m mid \u001b[39m=\u001b[39m \u001b[39mround\u001b[39m((start \u001b[39m+\u001b[39m end) \u001b[39m/\u001b[39m \u001b[39m2\u001b[39m)\n\u001b[1;32m     26\u001b[0m merge_sort(arr\u001b[39m=\u001b[39marr, start\u001b[39m=\u001b[39mstart, end\u001b[39m=\u001b[39mmid) \u001b[39m# take care of first half part\u001b[39;00m\n\u001b[0;32m---> 27\u001b[0m merge_sort(arr\u001b[39m=\u001b[39;49marr, start\u001b[39m=\u001b[39;49mmid, end\u001b[39m=\u001b[39;49mend) \u001b[39m# take care of second half part\u001b[39;00m\n\u001b[1;32m     28\u001b[0m merge(arr, start, mid, end)\n",
      "Cell \u001b[0;32mIn [7], line 27\u001b[0m, in \u001b[0;36mmerge_sort\u001b[0;34m(arr, start, end)\u001b[0m\n\u001b[1;32m     25\u001b[0m mid \u001b[39m=\u001b[39m \u001b[39mround\u001b[39m((start \u001b[39m+\u001b[39m end) \u001b[39m/\u001b[39m \u001b[39m2\u001b[39m)\n\u001b[1;32m     26\u001b[0m merge_sort(arr\u001b[39m=\u001b[39marr, start\u001b[39m=\u001b[39mstart, end\u001b[39m=\u001b[39mmid) \u001b[39m# take care of first half part\u001b[39;00m\n\u001b[0;32m---> 27\u001b[0m merge_sort(arr\u001b[39m=\u001b[39;49marr, start\u001b[39m=\u001b[39;49mmid, end\u001b[39m=\u001b[39;49mend) \u001b[39m# take care of second half part\u001b[39;00m\n\u001b[1;32m     28\u001b[0m merge(arr, start, mid, end)\n",
      "    \u001b[0;31m[... skipping similar frames: merge_sort at line 27 (2965 times)]\u001b[0m\n",
      "Cell \u001b[0;32mIn [7], line 27\u001b[0m, in \u001b[0;36mmerge_sort\u001b[0;34m(arr, start, end)\u001b[0m\n\u001b[1;32m     25\u001b[0m mid \u001b[39m=\u001b[39m \u001b[39mround\u001b[39m((start \u001b[39m+\u001b[39m end) \u001b[39m/\u001b[39m \u001b[39m2\u001b[39m)\n\u001b[1;32m     26\u001b[0m merge_sort(arr\u001b[39m=\u001b[39marr, start\u001b[39m=\u001b[39mstart, end\u001b[39m=\u001b[39mmid) \u001b[39m# take care of first half part\u001b[39;00m\n\u001b[0;32m---> 27\u001b[0m merge_sort(arr\u001b[39m=\u001b[39;49marr, start\u001b[39m=\u001b[39;49mmid, end\u001b[39m=\u001b[39;49mend) \u001b[39m# take care of second half part\u001b[39;00m\n\u001b[1;32m     28\u001b[0m merge(arr, start, mid, end)\n",
      "Cell \u001b[0;32mIn [7], line 25\u001b[0m, in \u001b[0;36mmerge_sort\u001b[0;34m(arr, start, end)\u001b[0m\n\u001b[1;32m     23\u001b[0m \u001b[39mdef\u001b[39;00m \u001b[39mmerge_sort\u001b[39m(arr: \u001b[39mlist\u001b[39m[\u001b[39mint\u001b[39m], start: \u001b[39mint\u001b[39m, end: \u001b[39mint\u001b[39m) \u001b[39m-\u001b[39m\u001b[39m>\u001b[39m \u001b[39mNone\u001b[39;00m:\n\u001b[1;32m     24\u001b[0m     \u001b[39mif\u001b[39;00m start \u001b[39m<\u001b[39m end:\n\u001b[0;32m---> 25\u001b[0m         mid \u001b[39m=\u001b[39m \u001b[39mround\u001b[39;49m((start \u001b[39m+\u001b[39;49m end) \u001b[39m/\u001b[39;49m \u001b[39m2\u001b[39;49m)\n\u001b[1;32m     26\u001b[0m         merge_sort(arr\u001b[39m=\u001b[39marr, start\u001b[39m=\u001b[39mstart, end\u001b[39m=\u001b[39mmid) \u001b[39m# take care of first half part\u001b[39;00m\n\u001b[1;32m     27\u001b[0m         merge_sort(arr\u001b[39m=\u001b[39marr, start\u001b[39m=\u001b[39mmid, end\u001b[39m=\u001b[39mend) \u001b[39m# take care of second half part\u001b[39;00m\n",
      "\u001b[0;31mRecursionError\u001b[0m: maximum recursion depth exceeded while calling a Python object"
     ]
    }
   ],
   "source": [
    "arr = [23, 1, 19, -2, 50, 100, 51]\n",
    "merge_sort(arr=arr, start=0, end=len(arr))"
   ]
  },
  {
   "cell_type": "code",
   "execution_count": 33,
   "metadata": {},
   "outputs": [
    {
     "data": {
      "text/plain": [
       "2.5"
      ]
     },
     "execution_count": 33,
     "metadata": {},
     "output_type": "execute_result"
    }
   ],
   "source": [
    "(2 + 3) / int(2)"
   ]
  },
  {
   "cell_type": "code",
   "execution_count": null,
   "metadata": {},
   "outputs": [],
   "source": []
  }
 ],
 "metadata": {
  "kernelspec": {
   "display_name": "Python 3 (ipykernel)",
   "language": "python",
   "name": "python3"
  },
  "language_info": {
   "codemirror_mode": {
    "name": "ipython",
    "version": 3
   },
   "file_extension": ".py",
   "mimetype": "text/x-python",
   "name": "python",
   "nbconvert_exporter": "python",
   "pygments_lexer": "ipython3",
   "version": "3.10.6"
  },
  "orig_nbformat": 4
 },
 "nbformat": 4,
 "nbformat_minor": 2
}
