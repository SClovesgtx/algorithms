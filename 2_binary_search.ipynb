{
 "cells": [
  {
   "attachments": {},
   "cell_type": "markdown",
   "id": "58109760",
   "metadata": {},
   "source": [
    "If you have in your hand a sorted array, so you can use the Binary Search.\n",
    "\n",
    "Suppose you array have 100 items, from 1 to 100. **Look for the number 90**.\n",
    "Is not efficient use linear search in this case.\n",
    "\n",
    "You can break the array in a half, so you have 50 to 100, in a half again\n",
    "and you have 75 to 100, and a half again and you have 88 to 100, and a half\n",
    "again and you have 88 to 93, and a half again you have you have 88 to 90, and a half again and you have 90.\n",
    "\n",
    "So, instead to do 90 iterations in linear search, you did it in 6 interactions in binary search."
   ]
  },
  {
   "cell_type": "code",
   "execution_count": 12,
   "id": "09714757",
   "metadata": {},
   "outputs": [],
   "source": [
    "def binary_search(sorted_list: list[int], item_to_find: int, start: int, end: int) -> int:\n",
    "    while start <= end:\n",
    "        mid = (start + end) // 2\n",
    "        if sorted_list[mid] == item_to_find:\n",
    "            return mid\n",
    "        elif sorted_list[mid] < item_to_find:\n",
    "            start = mid + 1\n",
    "        else:\n",
    "            end = mid - 1\n",
    "    return -1 # item not found"
   ]
  },
  {
   "cell_type": "code",
   "execution_count": 15,
   "id": "86f11bd4",
   "metadata": {},
   "outputs": [],
   "source": [
    "l = [10, 13, 30, 43, 52, 54, 88, 90, 100]"
   ]
  },
  {
   "cell_type": "code",
   "execution_count": 24,
   "id": "e056a91e",
   "metadata": {},
   "outputs": [
    {
     "data": {
      "text/plain": [
       "-1"
      ]
     },
     "execution_count": 24,
     "metadata": {},
     "output_type": "execute_result"
    }
   ],
   "source": [
    "binary_search(sorted_list=l, item_to_find=9, start=0, end=len(l)-1)"
   ]
  }
 ],
 "metadata": {
  "kernelspec": {
   "display_name": "Python 3 (ipykernel)",
   "language": "python",
   "name": "python3"
  },
  "language_info": {
   "codemirror_mode": {
    "name": "ipython",
    "version": 3
   },
   "file_extension": ".py",
   "mimetype": "text/x-python",
   "name": "python",
   "nbconvert_exporter": "python",
   "pygments_lexer": "ipython3",
   "version": "3.10.6"
  }
 },
 "nbformat": 4,
 "nbformat_minor": 5
}
